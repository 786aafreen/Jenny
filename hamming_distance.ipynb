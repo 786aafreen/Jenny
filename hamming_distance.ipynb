{
  "nbformat": 4,
  "nbformat_minor": 0,
  "metadata": {
    "colab": {
      "private_outputs": true,
      "provenance": [],
      "authorship_tag": "ABX9TyNAzEDPYycfw7iYH88fKAbR",
      "include_colab_link": true
    },
    "kernelspec": {
      "name": "python3",
      "display_name": "Python 3"
    },
    "language_info": {
      "name": "python"
    }
  },
  "cells": [
    {
      "cell_type": "markdown",
      "metadata": {
        "id": "view-in-github",
        "colab_type": "text"
      },
      "source": [
        "<a href=\"https://colab.research.google.com/github/786aafreen/Jenny/blob/main/hamming_distance.ipynb\" target=\"_parent\"><img src=\"https://colab.research.google.com/assets/colab-badge.svg\" alt=\"Open In Colab\"/></a>"
      ]
    },
    {
      "cell_type": "code",
      "execution_count": null,
      "metadata": {
        "id": "6EPjZ0No1yiI"
      },
      "outputs": [],
      "source": [
        "# Function to calculate\n",
        "# Hamming distance\n",
        "def hammingDist(str1, str2):\n",
        "    i = 0\n",
        "    count = 0\n",
        " \n",
        "    while(i < len(str1)):\n",
        "        if(str1[i] != str2[i]):\n",
        "            count += 1\n",
        "        i += 1\n",
        "    return count"
      ]
    },
    {
      "cell_type": "code",
      "source": [
        "\n",
        "# Driver code \n",
        "str1 = \"Aafreen\"\n",
        "str2 = \"Samreen\"\n",
        " \n",
        "# function call\n",
        "print(hammingDist(str1, str2))"
      ],
      "metadata": {
        "id": "j2zXgvZn19CC"
      },
      "execution_count": null,
      "outputs": []
    },
    {
      "cell_type": "code",
      "source": [
        "s = 'rocket'\n",
        "s1 = 'rockstar'\n",
        "\n",
        "print(hammingDist(s, s1))"
      ],
      "metadata": {
        "id": "9KHjpIjL2OcB"
      },
      "execution_count": null,
      "outputs": []
    }
  ]
}